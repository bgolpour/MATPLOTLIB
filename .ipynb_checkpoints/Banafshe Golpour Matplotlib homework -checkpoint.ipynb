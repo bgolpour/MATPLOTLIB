{
 "cells": [
  {
   "cell_type": "code",
   "execution_count": 12,
   "metadata": {},
   "outputs": [],
   "source": [
    "import os\n",
    "import matplotlib.pyplot as plt\n",
    "import pandas as pd\n",
    "import numpy as np \n",
    "from scipy.stats import sem\n",
    "import warnings\n",
    "warnings.filterwarnings('ignore')"
   ]
  },
  {
   "cell_type": "code",
   "execution_count": 13,
   "metadata": {},
   "outputs": [],
   "source": [
    "# clinical trial csv path\n",
    "clinical_data = \"clinicaltrial_data.csv\"\n",
    "clinical_data_df = pd.read_csv(clinical_data)"
   ]
  },
  {
   "cell_type": "code",
   "execution_count": 14,
   "metadata": {},
   "outputs": [],
   "source": [
    "# mouse data csv path\n",
    "mouse_drug_data= \"mouse_drug_data.csv\"\n",
    "mouse_drug_data_df = pd.read_csv(mouse_drug_data)"
   ]
  },
  {
   "cell_type": "code",
   "execution_count": 15,
   "metadata": {},
   "outputs": [
    {
     "data": {
      "text/html": [
       "<div>\n",
       "<style scoped>\n",
       "    .dataframe tbody tr th:only-of-type {\n",
       "        vertical-align: middle;\n",
       "    }\n",
       "\n",
       "    .dataframe tbody tr th {\n",
       "        vertical-align: top;\n",
       "    }\n",
       "\n",
       "    .dataframe thead th {\n",
       "        text-align: right;\n",
       "    }\n",
       "</style>\n",
       "<table border=\"1\" class=\"dataframe\">\n",
       "  <thead>\n",
       "    <tr style=\"text-align: right;\">\n",
       "      <th></th>\n",
       "      <th>Mouse ID</th>\n",
       "      <th>Drug</th>\n",
       "      <th>Timepoint</th>\n",
       "      <th>Tumor Volume (mm3)</th>\n",
       "      <th>Metastatic Sites</th>\n",
       "    </tr>\n",
       "  </thead>\n",
       "  <tbody>\n",
       "    <tr>\n",
       "      <th>0</th>\n",
       "      <td>f234</td>\n",
       "      <td>Stelasyn</td>\n",
       "      <td>0</td>\n",
       "      <td>45.000000</td>\n",
       "      <td>0</td>\n",
       "    </tr>\n",
       "    <tr>\n",
       "      <th>1</th>\n",
       "      <td>f234</td>\n",
       "      <td>Stelasyn</td>\n",
       "      <td>5</td>\n",
       "      <td>47.313491</td>\n",
       "      <td>0</td>\n",
       "    </tr>\n",
       "    <tr>\n",
       "      <th>2</th>\n",
       "      <td>f234</td>\n",
       "      <td>Stelasyn</td>\n",
       "      <td>10</td>\n",
       "      <td>47.904324</td>\n",
       "      <td>0</td>\n",
       "    </tr>\n",
       "    <tr>\n",
       "      <th>3</th>\n",
       "      <td>f234</td>\n",
       "      <td>Stelasyn</td>\n",
       "      <td>15</td>\n",
       "      <td>48.735197</td>\n",
       "      <td>1</td>\n",
       "    </tr>\n",
       "    <tr>\n",
       "      <th>4</th>\n",
       "      <td>f234</td>\n",
       "      <td>Stelasyn</td>\n",
       "      <td>20</td>\n",
       "      <td>51.112713</td>\n",
       "      <td>2</td>\n",
       "    </tr>\n",
       "  </tbody>\n",
       "</table>\n",
       "</div>"
      ],
      "text/plain": [
       "  Mouse ID      Drug  Timepoint  Tumor Volume (mm3)  Metastatic Sites\n",
       "0     f234  Stelasyn          0           45.000000                 0\n",
       "1     f234  Stelasyn          5           47.313491                 0\n",
       "2     f234  Stelasyn         10           47.904324                 0\n",
       "3     f234  Stelasyn         15           48.735197                 1\n",
       "4     f234  Stelasyn         20           51.112713                 2"
      ]
     },
     "execution_count": 15,
     "metadata": {},
     "output_type": "execute_result"
    }
   ],
   "source": [
    "# combining 2 data sets \n",
    "merged_data_df = pd.merge(mouse_drug_data_df, clinical_data_df, how='outer', on='Mouse ID')\n",
    "merged_data_df.head()"
   ]
  },
  {
   "cell_type": "code",
   "execution_count": 16,
   "metadata": {},
   "outputs": [
    {
     "data": {
      "text/html": [
       "<div>\n",
       "<style scoped>\n",
       "    .dataframe tbody tr th:only-of-type {\n",
       "        vertical-align: middle;\n",
       "    }\n",
       "\n",
       "    .dataframe tbody tr th {\n",
       "        vertical-align: top;\n",
       "    }\n",
       "\n",
       "    .dataframe thead th {\n",
       "        text-align: right;\n",
       "    }\n",
       "</style>\n",
       "<table border=\"1\" class=\"dataframe\">\n",
       "  <thead>\n",
       "    <tr style=\"text-align: right;\">\n",
       "      <th></th>\n",
       "      <th>Tumor Volume (mm3)</th>\n",
       "      <th>Drug</th>\n",
       "      <th>Timepoint</th>\n",
       "    </tr>\n",
       "  </thead>\n",
       "  <tbody>\n",
       "    <tr>\n",
       "      <th>0</th>\n",
       "      <td>45.000000</td>\n",
       "      <td>Stelasyn</td>\n",
       "      <td>0</td>\n",
       "    </tr>\n",
       "    <tr>\n",
       "      <th>1</th>\n",
       "      <td>47.313491</td>\n",
       "      <td>Stelasyn</td>\n",
       "      <td>5</td>\n",
       "    </tr>\n",
       "    <tr>\n",
       "      <th>2</th>\n",
       "      <td>47.904324</td>\n",
       "      <td>Stelasyn</td>\n",
       "      <td>10</td>\n",
       "    </tr>\n",
       "    <tr>\n",
       "      <th>3</th>\n",
       "      <td>48.735197</td>\n",
       "      <td>Stelasyn</td>\n",
       "      <td>15</td>\n",
       "    </tr>\n",
       "    <tr>\n",
       "      <th>4</th>\n",
       "      <td>51.112713</td>\n",
       "      <td>Stelasyn</td>\n",
       "      <td>20</td>\n",
       "    </tr>\n",
       "  </tbody>\n",
       "</table>\n",
       "</div>"
      ],
      "text/plain": [
       "   Tumor Volume (mm3)      Drug  Timepoint\n",
       "0           45.000000  Stelasyn          0\n",
       "1           47.313491  Stelasyn          5\n",
       "2           47.904324  Stelasyn         10\n",
       "3           48.735197  Stelasyn         15\n",
       "4           51.112713  Stelasyn         20"
      ]
     },
     "execution_count": 16,
     "metadata": {},
     "output_type": "execute_result"
    }
   ],
   "source": [
    "# Creating new table for storing the Mean Tumor Volume Data Grouped by Drug and Timepoint\n",
    "new_table_df = merged_data_df[[\"Tumor Volume (mm3)\", \"Drug\", \"Timepoint\"]]\n",
    "new_table_df.head()"
   ]
  },
  {
   "cell_type": "code",
   "execution_count": 17,
   "metadata": {},
   "outputs": [],
   "source": [
    "# Create the GroupBy object based on the \"Drug and Timepoint\" column\n",
    "Grouped_Tumor = new_table_df.groupby([\"Drug\", \"Timepoint\"])"
   ]
  },
  {
   "cell_type": "code",
   "execution_count": 18,
   "metadata": {},
   "outputs": [
    {
     "data": {
      "text/plain": [
       "Drug       Timepoint\n",
       "Capomulin  0            45.000000\n",
       "           5            44.266086\n",
       "           10           43.084291\n",
       "           15           42.064317\n",
       "           20           40.716325\n",
       "Name: Tumor Volume (mm3), dtype: float64"
      ]
     },
     "execution_count": 18,
     "metadata": {},
     "output_type": "execute_result"
    }
   ],
   "source": [
    "mean_data_df = Grouped_Tumor[\"Tumor Volume (mm3)\"].mean()\n",
    "mean_data_df.head()"
   ]
  },
  {
   "cell_type": "code",
   "execution_count": null,
   "metadata": {},
   "outputs": [],
   "source": [
    "mean_data_df = pd.DataFrame(mean_data_df,columns=['Drug','Timepoint', 'Tumor Volume (mm3')])"
   ]
  },
  {
   "cell_type": "code",
   "execution_count": 19,
   "metadata": {},
   "outputs": [
    {
     "data": {
      "text/plain": [
       "Drug       Timepoint\n",
       "Capomulin  0            45.000000\n",
       "           5            44.266086\n",
       "           10           43.084291\n",
       "           15           42.064317\n",
       "           20           40.716325\n",
       "dtype: float64"
      ]
     },
     "execution_count": 19,
     "metadata": {},
     "output_type": "execute_result"
    }
   ],
   "source": [
    "# Creating new table for storing the Mean Grouped Tumore Volume by Drug and Timepoint\n",
    "renamed_df = mean_data_df.rename(columns={\"Drug\":\"Drug\", \"Timepoint\":\"Timepoint\", \"Tumor Volume (mm3)\":\"Mean Tumor Volume\"})\n",
    "renamed_df.head()"
   ]
  },
  {
   "cell_type": "code",
   "execution_count": 20,
   "metadata": {},
   "outputs": [],
   "source": [
    "#df1 = pd.DataFrame(df1,columns=['Name','Mathematics_score'])\n",
    "#print(df1)\n",
    "#df1['percentage'] = df1['Mathematics_score']/df1['Mathematics_score'].sum()\n",
    "#print(df1)"
   ]
  },
  {
   "cell_type": "code",
   "execution_count": 21,
   "metadata": {},
   "outputs": [
    {
     "data": {
      "text/html": [
       "<div>\n",
       "<style scoped>\n",
       "    .dataframe tbody tr th:only-of-type {\n",
       "        vertical-align: middle;\n",
       "    }\n",
       "\n",
       "    .dataframe tbody tr th {\n",
       "        vertical-align: top;\n",
       "    }\n",
       "\n",
       "    .dataframe thead th {\n",
       "        text-align: right;\n",
       "    }\n",
       "</style>\n",
       "<table border=\"1\" class=\"dataframe\">\n",
       "  <thead>\n",
       "    <tr style=\"text-align: right;\">\n",
       "      <th></th>\n",
       "      <th></th>\n",
       "      <th>0</th>\n",
       "    </tr>\n",
       "    <tr>\n",
       "      <th>Drug</th>\n",
       "      <th>Timepoint</th>\n",
       "      <th></th>\n",
       "    </tr>\n",
       "  </thead>\n",
       "  <tbody>\n",
       "    <tr>\n",
       "      <th rowspan=\"5\" valign=\"top\">Capomulin</th>\n",
       "      <th>0</th>\n",
       "      <td>45.000000</td>\n",
       "    </tr>\n",
       "    <tr>\n",
       "      <th>5</th>\n",
       "      <td>44.266086</td>\n",
       "    </tr>\n",
       "    <tr>\n",
       "      <th>10</th>\n",
       "      <td>43.084291</td>\n",
       "    </tr>\n",
       "    <tr>\n",
       "      <th>15</th>\n",
       "      <td>42.064317</td>\n",
       "    </tr>\n",
       "    <tr>\n",
       "      <th>20</th>\n",
       "      <td>40.716325</td>\n",
       "    </tr>\n",
       "  </tbody>\n",
       "</table>\n",
       "</div>"
      ],
      "text/plain": [
       "                             0\n",
       "Drug      Timepoint           \n",
       "Capomulin 0          45.000000\n",
       "          5          44.266086\n",
       "          10         43.084291\n",
       "          15         42.064317\n",
       "          20         40.716325"
      ]
     },
     "execution_count": 21,
     "metadata": {},
     "output_type": "execute_result"
    }
   ],
   "source": [
    "# I need samples calculation for sem\n",
    "samples = renamed_df.loc[:, [\"Mean Tumor Volume\"]]\n",
    "# Calculate standard error on means\n",
    "sem = [s.sem() for s in samples]\n",
    "# Convert the sem into a DataFrame\n",
    "sem =  pd.DataFrame(renamed_df)\n",
    "#Preview DataFrame\n",
    "sem.head()"
   ]
  },
  {
   "cell_type": "code",
   "execution_count": 23,
   "metadata": {},
   "outputs": [
    {
     "ename": "AttributeError",
     "evalue": "'Series' object has no attribute 'set_index'",
     "output_type": "error",
     "traceback": [
      "\u001b[0;31m---------------------------------------------------------------------------\u001b[0m",
      "\u001b[0;31mAttributeError\u001b[0m                            Traceback (most recent call last)",
      "\u001b[0;32m<ipython-input-23-78030d900fba>\u001b[0m in \u001b[0;36m<module>\u001b[0;34m\u001b[0m\n\u001b[0;32m----> 1\u001b[0;31m \u001b[0mmean_data_df\u001b[0m\u001b[0;34m.\u001b[0m\u001b[0mset_index\u001b[0m\u001b[0;34m(\u001b[0m\u001b[0;34m[\u001b[0m\u001b[0;34m'Timepoint'\u001b[0m\u001b[0;34m,\u001b[0m \u001b[0;34m'Drug'\u001b[0m\u001b[0;34m,\u001b[0m \u001b[0;34m'Tumor Volume (mm3)'\u001b[0m\u001b[0;34m]\u001b[0m\u001b[0;34m)\u001b[0m\u001b[0;34m.\u001b[0m\u001b[0munstack\u001b[0m\u001b[0;34m(\u001b[0m\u001b[0;34m)\u001b[0m\u001b[0;34m\u001b[0m\u001b[0;34m\u001b[0m\u001b[0m\n\u001b[0m\u001b[1;32m      2\u001b[0m \u001b[0;31m#pivot_mean_data_df = mean_data_df.pivot(index= 'Timepoint', columns= 'Drug', Values= 'Tumor Volume (mm3)')\u001b[0m\u001b[0;34m\u001b[0m\u001b[0;34m\u001b[0m\u001b[0;34m\u001b[0m\u001b[0m\n\u001b[1;32m      3\u001b[0m \u001b[0;31m#pivot_mean_data_df()\u001b[0m\u001b[0;34m\u001b[0m\u001b[0;34m\u001b[0m\u001b[0;34m\u001b[0m\u001b[0m\n",
      "\u001b[0;32m/anaconda3/lib/python3.7/site-packages/pandas/core/generic.py\u001b[0m in \u001b[0;36m__getattr__\u001b[0;34m(self, name)\u001b[0m\n\u001b[1;32m   5065\u001b[0m             \u001b[0;32mif\u001b[0m \u001b[0mself\u001b[0m\u001b[0;34m.\u001b[0m\u001b[0m_info_axis\u001b[0m\u001b[0;34m.\u001b[0m\u001b[0m_can_hold_identifiers_and_holds_name\u001b[0m\u001b[0;34m(\u001b[0m\u001b[0mname\u001b[0m\u001b[0;34m)\u001b[0m\u001b[0;34m:\u001b[0m\u001b[0;34m\u001b[0m\u001b[0;34m\u001b[0m\u001b[0m\n\u001b[1;32m   5066\u001b[0m                 \u001b[0;32mreturn\u001b[0m \u001b[0mself\u001b[0m\u001b[0;34m[\u001b[0m\u001b[0mname\u001b[0m\u001b[0;34m]\u001b[0m\u001b[0;34m\u001b[0m\u001b[0;34m\u001b[0m\u001b[0m\n\u001b[0;32m-> 5067\u001b[0;31m             \u001b[0;32mreturn\u001b[0m \u001b[0mobject\u001b[0m\u001b[0;34m.\u001b[0m\u001b[0m__getattribute__\u001b[0m\u001b[0;34m(\u001b[0m\u001b[0mself\u001b[0m\u001b[0;34m,\u001b[0m \u001b[0mname\u001b[0m\u001b[0;34m)\u001b[0m\u001b[0;34m\u001b[0m\u001b[0;34m\u001b[0m\u001b[0m\n\u001b[0m\u001b[1;32m   5068\u001b[0m \u001b[0;34m\u001b[0m\u001b[0m\n\u001b[1;32m   5069\u001b[0m     \u001b[0;32mdef\u001b[0m \u001b[0m__setattr__\u001b[0m\u001b[0;34m(\u001b[0m\u001b[0mself\u001b[0m\u001b[0;34m,\u001b[0m \u001b[0mname\u001b[0m\u001b[0;34m,\u001b[0m \u001b[0mvalue\u001b[0m\u001b[0;34m)\u001b[0m\u001b[0;34m:\u001b[0m\u001b[0;34m\u001b[0m\u001b[0;34m\u001b[0m\u001b[0m\n",
      "\u001b[0;31mAttributeError\u001b[0m: 'Series' object has no attribute 'set_index'"
     ]
    }
   ],
   "source": [
    "mean_data_df = pd.DataFrame\n",
    "mean_data_df.set_index(['Timepoint', 'Drug', 'Tumor Volume (mm3)']).unstack()\n",
    "#pivot_mean_data_df = mean_data_df.pivot(index= 'Timepoint', columns= 'Drug', Values= 'Tumor Volume (mm3)')\n",
    "#pivot_mean_data_df()"
   ]
  },
  {
   "cell_type": "code",
   "execution_count": null,
   "metadata": {},
   "outputs": [],
   "source": []
  },
  {
   "cell_type": "code",
   "execution_count": null,
   "metadata": {},
   "outputs": [],
   "source": [
    "Reframe_df = pd.DataFrame({\n",
    "    \"Timepoint\": [0, 5, 10, 15, 20],\n",
    "    \"Capomulin\": [45.000000, 44.266086, 43.084291, 42.064317, 40.716325],\n",
    "    \"Ceftamin\": [45.000000, 46.503051, 48.285125, 50.094055, 52.157049],\n",
    "    \"Infubinol\": [45.000000, 47.062001, 49.403909, 51.296397, 53.197691],\n",
    "    \"Ketapril\": [45.000000, 47.389175, 49.582269, 52.399974, 54.920935],\n",
    "    \"Naftisol\": [45.000000, 46.796098, 48.694210, 50.933018, 53.644087],\n",
    "    \"Placebo\": [45.000000, 47.125589, 49.423329, 51.359742, 54.364417],\n",
    "    \"Propriva\": [45.000000, 47.248967, 49.101541, 51.067318, 53.346737],\n",
    "    \"Ramicane\": [45.000000, 43.944859, 42.531957, 41.495061, 40.238325],\n",
    "    \"Stelasyn\": [45.000000, 47.527452, 49.463844, 51.529409, 54.067395],\n",
    "    \"Zoniferol\": [45.000000, 46.851818, 48.689881, 50.779059, 53.170334]\n",
    "})\n",
    "Reframe_df"
   ]
  },
  {
   "cell_type": "code",
   "execution_count": null,
   "metadata": {},
   "outputs": [],
   "source": [
    "# Grouped mean Tumor volume \n",
    "average_volume = Reframe_df.mean()\n",
    "average_volume"
   ]
  },
  {
   "cell_type": "code",
   "execution_count": null,
   "metadata": {},
   "outputs": [],
   "source": [
    "# Days of data collection\n",
    "days = [0, 10, 20, 30, 40]\n",
    "days"
   ]
  },
  {
   "cell_type": "code",
   "execution_count": null,
   "metadata": {},
   "outputs": [],
   "source": [
    "\n",
    "plt.title(\"Tumor Response to Treatment\")\n",
    "plt.xlabel(\"Time(Days)\")                   \n",
    "plt.ylabel(\"Tumor Volume(mm3)\")\n",
    "\n",
    "plt.ylim(35,70, 5)\n",
    "plt.yticks(np.arange(35, 70, 5)) \n",
    "                   \n",
    "drug_campo, = plt.plot(days, Reframe_df.loc[:,[\"Capomulin\"]], marker=\".\", color=\"red\", label=\"Capomulin\")\n",
    "drug_infu, = plt.plot(days, Reframe_df.loc[:,[\"Infubinol\"]], marker=\"*\", color=\"blue\", label=\"Infubinol\")\n",
    "drug_keta, = plt.plot(days, Reframe_df.loc[:,[\"Ketapril\"]], marker=\"s\", color=\"Green\", label=\"Ketapril\")\n",
    "drug_placebo, = plt.plot(days, Reframe_df.loc[:,[\"Placebo\"]], marker=\"d\", color=\"black\", label=\"Placebo\")\n",
    "plt.legend(handles=[drug_campo, drug_infu, drug_keta, drug_placebo], loc=\"upper left\")\n",
    "#plt.legend.show\n",
    "#Set x axis and variables\n",
    "\n",
    "#plt.hlines(0, 0, x_lim, alpha=0.3)\n",
    "plt.show()"
   ]
  },
  {
   "cell_type": "code",
   "execution_count": null,
   "metadata": {},
   "outputs": [],
   "source": [
    "# Creating new table for storing the Mean Met. Volume Data Grouped by Drug and Timepoint\n",
    "table_df = merged_data_df[[\"Drug\", \"Timepoint\", \"Metastatic Sites\"]]\n",
    "table_df.head()\n",
    "# Convert to DataFrame\n",
    "\n",
    "# Preview DataFrame"
   ]
  },
  {
   "cell_type": "code",
   "execution_count": null,
   "metadata": {},
   "outputs": [],
   "source": [
    "#Store the Mean Met. grouped by Drug and Timepoint\n",
    "Grouped_Metas = table_df.groupby([\"Drug\", \"Timepoint\"])\n",
    "mean_met_df = Grouped_Metas[\"Metastatic Sites\"].mean()\n",
    "mean_met_df.head()"
   ]
  },
  {
   "cell_type": "code",
   "execution_count": null,
   "metadata": {},
   "outputs": [],
   "source": [
    "mean_met_df = Grouped_Metas[\"Metastatic Sites\"].mean()\n",
    "mean_met_df.head()\n",
    "mean = mean_met_df"
   ]
  },
  {
   "cell_type": "code",
   "execution_count": null,
   "metadata": {},
   "outputs": [],
   "source": [
    "met_samples = mean_met_df.loc[:, [\"Metastatic Sites\"]]\n",
    "samples = met_samples\n",
    "mean = mean_met_df\n",
    "means = [s.mean() for s in samples]\n",
    "# Calculate standard error on means\n",
    "met_sem = [s.met_sem() for s in met_samples]\n",
    "# Convert the sem into a DataFrame\n",
    "met_sem =  pd.DataFrame(mean_met_df)\n",
    "#Preview DataFrame\n",
    "met_sem.head()"
   ]
  },
  {
   "cell_type": "code",
   "execution_count": null,
   "metadata": {},
   "outputs": [],
   "source": [
    "Met_Reframe_df = pd.DataFrame({\n",
    "    \"Timepoint\": [0, 5, 10, 15, 20],\n",
    "    \"Capomulin\": [0.000000, 0.160000, 0.320000, 0.375000, 0.652174],\n",
    "    \"Ceftamin\": [0.000000, 0.380952, 0.600000, 0.789474, 1.111111],\n",
    "    \"Infubinol\": [0.000000, 0.280000, 0.666667, 0.904762, 1.050000],\n",
    "    \"Ketapril\": [0.000000, 0.304348, 0.590909, 0.842105, 1.210526],\n",
    "    \"Naftisol\": [0.000000, 0.260870, 0.523810, 0.857143, 1.150000],\n",
    "    \"Placebo\": [0.000000, 0.375000, 0.833333, 1.250000, 1.526316],\n",
    "    \"Propriva\": [0.000000, 0.320000, 0.565217, 0.764706, 1.000000],\n",
    "    \"Ramicane\": [0.000000, 0.120000, 0.250000, 0.333333, 0.347826],\n",
    "    \"Stelasyn\": [0.000000, 0.240000, 0.478261, 0.782609, 0.952381],\n",
    "    \"Zoniferol\": [0.000000, 0.166667, 0.500000, 0.809524, 1.294118]\n",
    "})\n",
    "Met_Reframe_df"
   ]
  },
  {
   "cell_type": "code",
   "execution_count": null,
   "metadata": {},
   "outputs": [],
   "source": [
    "#days = np.arange(0, 40, 10)"
   ]
  },
  {
   "cell_type": "code",
   "execution_count": null,
   "metadata": {},
   "outputs": [],
   "source": [
    "days = [0, 10, 20, 30, 40]\n",
    "days\n",
    "\n",
    "plt.title(\"Metastatic Spread During Treatment\")\n",
    "plt.xlabel(\"Treatment Duration (Days)\")                   \n",
    "plt.ylabel(\"Met. Sites\")\n",
    "\n",
    "#plt.ylim(0, max(members) + 5)\n",
    "plt.xticks(np.arange(0, 50, 10)) \n",
    "plt.xlim(0,50)\n",
    "plt.ylim(0.0,3.5) \n",
    "\n",
    "\n",
    "Drug_campo, = plt.plot(days, Met_Reframe_df.loc[:,[\"Capomulin\"]], marker=\".\", color=\"red\", label=\"Capomulin\")\n",
    "Drug_infu, = plt.plot(days, Met_Reframe_df.loc[:,[\"Infubinol\"]], marker=\"*\", color=\"blue\", label=\"Infubinol\")\n",
    "Drug_keta, = plt.plot(days, Met_Reframe_df.loc[:,[\"Ketapril\"]], marker=\"s\", color=\"Green\", label=\"Ketapril\")\n",
    "Drug_placebo, = plt.plot(days, Met_Reframe_df.loc[:,[\"Placebo\"]], marker=\"d\", color=\"black\", label=\"Placebo\")\n",
    "plt.legend(handles=[Drug_campo, Drug_infu, Drug_keta, Drug_placebo], loc=\"upper left\")\n",
    "#Set x axis and variables\n",
    "\n",
    "#plt.hlines(0, 0, x_lim, alpha=0.3)\n",
    "plt.show()"
   ]
  },
  {
   "cell_type": "code",
   "execution_count": null,
   "metadata": {},
   "outputs": [],
   "source": [
    "#Mice count grouped by Drug and Timepoint\n",
    "Mice_table_df = merged_data_df[[\"Drug\", \"Timepoint\", \"Mouse ID\"]]\n",
    "Mice_table_df.head()"
   ]
  },
  {
   "cell_type": "code",
   "execution_count": null,
   "metadata": {},
   "outputs": [],
   "source": [
    "Grouped_Mice = Mice_table_df.groupby([\"Drug\", \"Timepoint\"])\n",
    "mice_data = Grouped_Mice[\"Mouse ID\"].count()\n",
    "mice_data.head()"
   ]
  },
  {
   "cell_type": "code",
   "execution_count": null,
   "metadata": {},
   "outputs": [],
   "source": [
    "Miner_format_df = pd.DataFrame({\n",
    "    \"Timepoint\": [0, 5, 10, 15, 20],\n",
    "    \"Capomulin\": [25, 25, 25, 24, 23],\n",
    "    \"Ceftamin\": [25, 21, 20, 19, 18],\n",
    "    \"Infubinol\": [25, 25, 21, 21, 20],\n",
    "    \"Ketapril\": [25, 23, 22, 19, 19],\n",
    "    \"Naftisol\": [25, 23, 21, 21, 20],\n",
    "    \"Placebo\": [25, 24, 24, 20, 19],\n",
    "    \"Propriva\": [26, 25, 23,  17, 17],\n",
    "    \"Ramicane\": [25, 25,  24,  24, 23],\n",
    "    \"Stelasyn\": [26, 25, 23, 23, 21],\n",
    "    \"Zoniferol\": [25, 24, 22, 21, 17]\n",
    "})\n",
    "Miner_format_df"
   ]
  },
  {
   "cell_type": "code",
   "execution_count": null,
   "metadata": {},
   "outputs": [],
   "source": [
    "#df['Drug'] = df['rent']/df['total']\n",
    "#df.pct_change(axis='columns')\n",
    "#Mouse survivle percentage\n",
    "df = df.groupby(['Drug', 'Timepoint']).agg({'Mouse ID': 'count'})\n",
    "Drug = df.groupby(['Drug']).agg({'Mouse ID': 'count'})\n",
    "percen = Time_point.div(Drug, level='Drug') * 100\n",
    "percen = pd.DataFrame(percen)\n",
    "percen.head()"
   ]
  },
  {
   "cell_type": "code",
   "execution_count": null,
   "metadata": {},
   "outputs": [],
   "source": [
    "days = [0, 10, 20, 30, 40]\n",
    "plt.title(\"Survival During Treatment\")\n",
    "plt.xlabel(\"Time(Days)\")                   \n",
    "plt.ylabel(\"Survial Rate %\")\n",
    "\n",
    "#plt.ylim(0, max(members) + 5)\n",
    "#plt.yticks(np.arange(40, 100, 10)) \n",
    "#y_axis = np.arange(0,100,10)\n",
    "#plt.ylim(0,100)\n",
    "x_axis = np.arange(0,40,10)\n",
    "plt.xticks(np.arange(0, 50, 10))\n",
    "x_axis\n",
    "                   \n",
    "data_campo, = plt.plot(days, Miner_format_df.loc[:,[\"Capomulin\"]], marker=\".\", color=\"red\", label=\"Capomulin\")\n",
    "data_infu, = plt.plot(days, Miner_format_df.loc[:,[\"Infubinol\"]], marker=\"*\", color=\"blue\", label=\"Infubinol\")\n",
    "data_keta, = plt.plot(days, Miner_format_df.loc[:,[\"Ketapril\"]], marker=\"s\", color=\"Green\", label=\"Ketapril\")\n",
    "data_placebo, = plt.plot(days, Miner_format_df.loc[:,[\"Placebo\"]], marker=\"d\", color=\"black\", label=\"Placebo\")\n",
    "plt.legend(handles=[data_campo, data_infu, data_keta, data_placebo], loc=\"best\")\n",
    "#plt.legend.show\n",
    "#Set x axis and variables\n",
    "\n",
    "#plt.hlines(0, 0, x_lim, alpha=0.3)\n",
    "plt.show()"
   ]
  },
  {
   "cell_type": "code",
   "execution_count": null,
   "metadata": {},
   "outputs": [],
   "source": []
  },
  {
   "cell_type": "code",
   "execution_count": null,
   "metadata": {},
   "outputs": [],
   "source": []
  }
 ],
 "metadata": {
  "kernelspec": {
   "display_name": "Python 3",
   "language": "python",
   "name": "python3"
  },
  "language_info": {
   "codemirror_mode": {
    "name": "ipython",
    "version": 3
   },
   "file_extension": ".py",
   "mimetype": "text/x-python",
   "name": "python",
   "nbconvert_exporter": "python",
   "pygments_lexer": "ipython3",
   "version": "3.7.3"
  }
 },
 "nbformat": 4,
 "nbformat_minor": 2
}
